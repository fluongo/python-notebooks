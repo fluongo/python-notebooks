{
 "metadata": {
  "name": "",
  "signature": "sha256:05f31608bab37f19ab7be13eccaf2056a63715eeae2fd67033f7660fc04bb844"
 },
 "nbformat": 3,
 "nbformat_minor": 0,
 "worksheets": [
  {
   "cells": [
    {
     "cell_type": "markdown",
     "metadata": {},
     "source": [
      "## Visualizing effect of stimulation on the projections\n",
      "\n",
      " - This code will look at the effect on PC projections during stim times\n",
      " - We will have to define the Stim times by hand and then import the PCs with UTC stamps\n",
      " "
     ]
    },
    {
     "cell_type": "code",
     "collapsed": false,
     "input": [],
     "language": "python",
     "metadata": {},
     "outputs": []
    }
   ],
   "metadata": {}
  }
 ]
}