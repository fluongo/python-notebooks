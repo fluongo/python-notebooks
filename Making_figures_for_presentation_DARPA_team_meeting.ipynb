{
 "metadata": {
  "name": "",
  "signature": "sha256:85a19ac57972a014b47d720c02ae8879b09dbe57f1a326935468cc9dc31b7828"
 },
 "nbformat": 3,
 "nbformat_minor": 0,
 "worksheets": [
  {
   "cells": [
    {
     "cell_type": "code",
     "collapsed": false,
     "input": [
      "#%matplotlib inline\n",
      "%pylab qt\n",
      "\n",
      "import sys\n",
      "sys.path.append('C:\\\\python_modules\\\\subnets-ecog')\n",
      "import numpy as np\n",
      "import matplotlib.pyplot as plt\n",
      "import ecogRecordingParams as recParams\n",
      "import seaborn as sns\n",
      "from pandas import DataFrame\n",
      "\n",
      "\n",
      "def plot_im(data):\n",
      "    pc = DataFrame(data, index = refNames, columns = refNames)\n",
      "    sns.heatmap(pc, annot=False, fmt = '.2n', square = True, center = 0)\n",
      "\n",
      "def plot_im_coh(data):\n",
      "    pc = DataFrame(data, index = refNames, columns = refNames)\n",
      "    sns.heatmap(pc, annot=False, fmt = '.2n', square = True)\n",
      "\n",
      "for patientID in ['EC79']:\n",
      "    output = recParams.electrode_locs_fq_bands(patientID); brainRegions = output['brainRegions']; refNames = brainRegions.keys()\n",
      "    data = np.load('Y:\\\\DURA_data\\\\'+ patientID + '\\\\processedData\\\\combined_30s\\\\PCA_all_reduced.npy')\n",
      "    \n",
      "    plt.figure(figsize = [22, 17])\n",
      "    sp_ind = 1;\n",
      "    for band in ['beta']:#, 'alpha', 'theta', 'beta', 'gamma', 'gammaHi']:\n",
      "        try:\n",
      "            for nRank in [0, 1, 2, 3, 4]:\n",
      "                plt.subplot(6,5,sp_ind); \n",
      "                #plot_im(sparsify(data[()][band][:,:,nRank]))\n",
      "                plot_im(data[()][band][:,:,nRank])\n",
      "                if nRank == 2:\n",
      "                    plt.title(band)\n",
      "                sp_ind += 1\n",
      "        except:\n",
      "            sp_ind += 5\n",
      "            continue\n",
      "    plt.suptitle(patientID + '_PC')\n",
      "    plt.savefig('C:\\\\users\\\\fluongo\\\\Box Sync\\\\first5_PCs_beta.pdf')\n",
      "    \n",
      "    \n",
      "PCs = data"
     ],
     "language": "python",
     "metadata": {},
     "outputs": [
      {
       "output_type": "stream",
       "stream": "stdout",
       "text": [
        "Populating the interactive namespace from numpy and matplotlib\n"
       ]
      }
     ],
     "prompt_number": 9
    },
    {
     "cell_type": "markdown",
     "metadata": {},
     "source": [
      "Below here we will pull out the time series of the coherence and plot them using seaborn"
     ]
    },
    {
     "cell_type": "code",
     "collapsed": false,
     "input": [
      "def plot_im_coh(dataT):\n",
      "    pc = DataFrame(dataT, index = refNames, columns = refNames)\n",
      "    sns.heatmap(pc, annot=False, fmt = '.2n', vmin = 0,vmax = 0.35, square = True, cbar = True, cmap = 'BuPu')\n",
      "\n",
      "def plot_im_coh2(dataT):\n",
      "    pc = DataFrame(dataT, index = refNames, columns = refNames)\n",
      "    sns.heatmap(pc, annot=False, fmt = '.2n', vmin = 0,vmax = 0.35, square = True,xticklabels = False ,yticklabels = False, cbar = False, cmap = 'BuPu')\n",
      "\n",
      "\n",
      "patientID = 'EC79'\n",
      "output = recParams.electrode_locs_fq_bands(patientID); brainRegions = output['brainRegions']; refNames = brainRegions.keys()\n",
      "#data = np.load('Y:\\\\DURA_data\\\\'+ patientID + '\\\\processedData\\\\combined_30s\\\\EC79_reducedcoh_30s_pr_delta.npy')\n",
      "\n",
      "\n",
      "\n",
      "plt.figure()\n",
      "plot_im_coh(data[:,:,0]); plt.tight_layout()\n",
      "plt.savefig('C:\\\\users\\\\fluongo\\\\Box Sync\\\\frames1.pdf')\n",
      "\n",
      "\n",
      "plt.figure()\n",
      "plot_im_coh2(data[:,:,2000])\n",
      "plt.savefig('C:\\\\users\\\\fluongo\\\\Box Sync\\\\frames2.pdf')\n",
      "\n",
      "plt.figure()\n",
      "plot_im_coh2(data[:,:,3000])\n",
      "plt.savefig('C:\\\\users\\\\fluongo\\\\Box Sync\\\\frames3.pdf')\n",
      "\n",
      "plt.figure()\n",
      "plot_im_coh2(data[:,:,4600])\n",
      "plt.savefig('C:\\\\users\\\\fluongo\\\\Box Sync\\\\frames4.pdf')\n",
      "\n",
      "plt.figure()\n",
      "plot_im_coh(data[:,:,6900]); plt.tight_layout()\n",
      "plt.savefig('C:\\\\users\\\\fluongo\\\\Box Sync\\\\frames5.pdf')\n"
     ],
     "language": "python",
     "metadata": {},
     "outputs": [],
     "prompt_number": 11
    },
    {
     "cell_type": "code",
     "collapsed": false,
     "input": [
      "# Load the projection onto the 4th PC for patient 79\n",
      "projs = np.load('Y:\\\\DURA_data\\\\'+ patientID + '\\\\processedData\\\\combined_30s\\\\EC79_30s_proj_reduced.npy')\n",
      "plt.figure(figsize = [10, 2])\n",
      "data_plot = projs[()]['pc']['delta'][3,1000:8001]\n",
      "plt.plot(np.linspace(0,48,len(data_plot)),data_plot)\n",
      "plt.xlabel('TIME (hours)')\n",
      "plt.ylabel('linear projection onto PC')\n",
      "plt.tight_layout()\n",
      "plt.savefig('C:\\\\users\\\\fluongo\\\\Box Sync\\\\projection.pdf')\n",
      "\n"
     ],
     "language": "python",
     "metadata": {},
     "outputs": [],
     "prompt_number": 12
    },
    {
     "cell_type": "code",
     "collapsed": false,
     "input": [
      "plt.figure()\n",
      "plt.plot(data_plot[2100:2800])\n",
      "plt.ylim([-30, 30])\n",
      "plt.axis('off')"
     ],
     "language": "python",
     "metadata": {},
     "outputs": [
      {
       "metadata": {},
       "output_type": "pyout",
       "prompt_number": 21,
       "text": [
        "(0.0, 700.0, -30.0, 30.0)"
       ]
      }
     ],
     "prompt_number": 21
    },
    {
     "cell_type": "code",
     "collapsed": false,
     "input": [
      "plt.figure()\n",
      "plt.plot(data_plot)"
     ],
     "language": "python",
     "metadata": {},
     "outputs": [
      {
       "metadata": {},
       "output_type": "pyout",
       "prompt_number": 22,
       "text": [
        "[<matplotlib.lines.Line2D at 0x1eedc7b8>]"
       ]
      }
     ],
     "prompt_number": 22
    },
    {
     "cell_type": "code",
     "collapsed": false,
     "input": [
      "\n",
      "for band in ['delta', 'theta', 'alpha', 'beta', 'gamma']:\n",
      "    data = np.load('Y:\\\\DURA_data\\\\'+ patientID + '\\\\processedData\\\\combined_30s\\\\EC79_reducedcoh_30s_pr_' + band +'.npy')\n",
      "    plt.figure()\n",
      "    plot_im_coh(data[:,:,2]); plt.tight_layout()\n",
      "    plt.title(band)\n",
      "    plt.savefig('C:\\\\users\\\\fluongo\\\\Box Sync\\\\'+ band + '.pdf')"
     ],
     "language": "python",
     "metadata": {},
     "outputs": [],
     "prompt_number": 10
    },
    {
     "cell_type": "code",
     "collapsed": false,
     "input": [],
     "language": "python",
     "metadata": {},
     "outputs": []
    },
    {
     "cell_type": "code",
     "collapsed": false,
     "input": [
      "\n",
      "data_new = np.load('C:\\\\users\\\\fluongo\\\\downloads\\\\cohfile.npy')\n",
      "data_new.shape\n",
      "\n",
      "def plot_im_coh(dataT):\n",
      "    pc = DataFrame(dataT, index = refNames, columns = refNames)\n",
      "    sns.heatmap(pc, annot=False, fmt = '.2n', square = True, cbar = True, cmap = 'RdGy')\n",
      "\n",
      "for i in range(4):\n",
      "    plt.figure()\n",
      "    plot_im(data_new[:,:,i])\n",
      "    plt.tight_layout()\n",
      "    plt.savefig('C:\\\\users\\\\fluongo\\\\Box Sync\\\\lowry_'+ str(i) + '.pdf')\n",
      "    "
     ],
     "language": "python",
     "metadata": {},
     "outputs": [],
     "prompt_number": 10
    }
   ],
   "metadata": {}
  }
 ]
}