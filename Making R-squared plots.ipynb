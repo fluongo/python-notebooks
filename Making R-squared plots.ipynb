{
 "metadata": {
  "name": "",
  "signature": "sha256:03f5bfe65d4cb31c554426a2d356d3126bc79e4ec2edc3a99ed8b24955a49526"
 },
 "nbformat": 3,
 "nbformat_minor": 0,
 "worksheets": [
  {
   "cells": [
    {
     "cell_type": "code",
     "collapsed": false,
     "input": [
      "# Code for making the R-squared style plots\n",
      "\n",
      "# Things to Do\n",
      "# 1. Load in the coherence data values\n",
      "# 2. Calculate a mean subtracted version of coherence i.e. X-mu/sigma\n",
      "# 3. Look at this for individual seed regions (AMY - X) as well as everything\n",
      "\n",
      "#%matplotlib inline\n",
      "%pylab qt\n",
      "\n",
      "import sys\n",
      "\n",
      "# Check the system type\n",
      "if sys.platform == 'darwin':\n",
      "    sys.path.append('/users/fluongo/documents/Python_stuff/subnets-ecog')\n",
      "elif sys.platform == 'linux2':\n",
      "    sys.path.append('/newhome/fluongo/python_modules/subnets-ecog')\n",
      "else:\n",
      "    sys.path.append('C:\\\\python_modules\\\\subnets-ecog')\n",
      "\n",
      "import numpy as np\n",
      "import matplotlib.pyplot as plt\n",
      "import ecogRecordingParams as recParams\n",
      "import os\n"
     ],
     "language": "python",
     "metadata": {},
     "outputs": [
      {
       "output_type": "stream",
       "stream": "stdout",
       "text": [
        "Populating the interactive namespace from numpy and matplotlib\n"
       ]
      }
     ],
     "prompt_number": 4
    },
    {
     "cell_type": "code",
     "collapsed": false,
     "input": [],
     "language": "python",
     "metadata": {},
     "outputs": [
      {
       "output_type": "stream",
       "stream": "stdout",
       "text": [
        "['', '/home/fluongo/anaconda/lib/python27.zip', '/home/fluongo/anaconda/lib/python2.7', '/home/fluongo/anaconda/lib/python2.7/plat-linux2', '/home/fluongo/anaconda/lib/python2.7/lib-tk', '/home/fluongo/anaconda/lib/python2.7/lib-old', '/home/fluongo/anaconda/lib/python2.7/lib-dynload', '/home/fluongo/anaconda/lib/python2.7/site-packages', '/home/fluongo/anaconda/lib/python2.7/site-packages/PIL', '/home/fluongo/anaconda/lib/python2.7/site-packages/Sphinx-1.2.3-py2.7.egg', '/home/fluongo/anaconda/lib/python2.7/site-packages/runipy-0.1.1-py2.7.egg', '/home/fluongo/anaconda/lib/python2.7/site-packages/setuptools-12.2-py2.7.egg', '/home/fluongo/anaconda/lib/python2.7/site-packages/IPython/extensions', '/newhome/fluongo/python_modules/subnets-ecog']\n"
       ]
      }
     ],
     "prompt_number": 5
    }
   ],
   "metadata": {}
  }
 ]
}