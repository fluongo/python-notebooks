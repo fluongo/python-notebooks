{
 "metadata": {
  "name": "",
  "signature": "sha256:1a5dcc9d512e5227a53bf2ba4702c79fa510d6ef4edb1a2ed24eeac355280885"
 },
 "nbformat": 3,
 "nbformat_minor": 0,
 "worksheets": [
  {
   "cells": [
    {
     "cell_type": "code",
     "collapsed": false,
     "input": [
      "# Code for making the R-squared style plots\n",
      "\n",
      "# Things to Do\n",
      "# 1. Load in the coherence data values\n",
      "# 2. Calculate a mean subtracted version of coherence i.e. X-mu/sigma\n",
      "# 3. Look at this for individual seed regions (AMY - X) as well as everything\n",
      "\n",
      "#%matplotlib inline\n",
      "%pylab qt\n",
      "\n",
      "import sys\n",
      "import itertools\n",
      "\n",
      "# Check the system type\n",
      "if sys.platform == 'darwin':\n",
      "    sys.path.append('/users/fluongo/documents/Python_stuff/subnets-ecog')\n",
      "elif sys.platform == 'linux2':\n",
      "    sys.path.append('/newhome/fluongo/python_modules/subnets-ecog')\n",
      "    compSpec = '/Sohal'\n",
      "else:\n",
      "    sys.path.append('C:\\\\python_modules\\\\subnets-ecog')\n",
      "\n",
      "import numpy as np\n",
      "import matplotlib.pyplot as plt\n",
      "import ecogRecordingParams as recParams\n",
      "import os\n",
      "\n",
      "import seaborn as sns\n",
      "from pandas import DataFrame\n",
      "import scipy.stats\n",
      "\n",
      "def plot_im(data):\n",
      "    pc = DataFrame(data, index = refNames, columns = refNames)\n",
      "    sns.heatmap(pc, annot=False, fmt = '.2n', square = True, xticklabels = False, center = 0)\n",
      "    "
     ],
     "language": "python",
     "metadata": {},
     "outputs": [
      {
       "output_type": "stream",
       "stream": "stdout",
       "text": [
        "Populating the interactive namespace from numpy and matplotlib\n"
       ]
      }
     ],
     "prompt_number": 73
    },
    {
     "cell_type": "code",
     "collapsed": false,
     "input": [
      "patientID = 'EC71'\n",
      "data_loc = '/sohal/DARPA/' + patientID + '/processedData/coh_all_theta.npy'\n",
      "\n",
      "output = recParams.electrode_locs_fq_bands(patientID); brainRegions = output['brainRegions']; refNames = brainRegions.keys()\n",
      "#data = np.load(data_loc)\n"
     ],
     "language": "python",
     "metadata": {},
     "outputs": [],
     "prompt_number": 13
    },
    {
     "cell_type": "code",
     "collapsed": false,
     "input": [
      "def rsquared(x, y):\n",
      "    \"\"\" Return R^2 where x and y are array-like.\"\"\"\n",
      "    x = np.nan_to_num(x); y = np.nan_to_num(y)\n",
      "    x = (x - np.mean(x))/np.std(x)\n",
      "    y = (y - np.mean(y))/np.std(y)\n",
      "    slope, intercept, r_value, p_value, std_err = scipy.stats.linregress(x, y)\n",
      "    return r_value**2\n",
      "\n",
      "pos = 1\n",
      "f, ax = plt.subplots(3,2, sharex=True, sharey=True)\n",
      "\n",
      "for seed1, seed2 in list(itertools.combinations(range(92, 96), 2)):\n",
      "    R_all = np.zeros_like(data[:,:,0])    \n",
      "    for kk in range(116):\n",
      "        for jj in range(kk+1, 116):\n",
      "            R_all[kk, jj] = rsquared(data[kk, jj, :], data[seed1, seed2, :])\n",
      "    # Plot the output            \n",
      "    plt.subplot(3,2,pos); pos+=1\n",
      "    plt.imshow(R_all, cmap = 'binary', clim = [0, 0.4], interpolation = 'none'); plt.title(str(seed1) + ' AND ' + str(seed2))"
     ],
     "language": "python",
     "metadata": {},
     "outputs": [],
     "prompt_number": 119
    },
    {
     "cell_type": "markdown",
     "metadata": {},
     "source": [
      "Code below will perform the same thing except for the reduced datasets\n",
      "\n",
      "-- Plot the distribution of R squareds across all areas as seeds"
     ]
    },
    {
     "cell_type": "code",
     "collapsed": false,
     "input": [
      "patientID = 'EC71'\n",
      "data_loc = '/sohal/DARPA/' + patientID + '_reducedcoh_5s_pr_theta.npy'\n",
      "\n",
      "output = recParams.electrode_locs_fq_bands(patientID); brainRegions = output['brainRegions']; refNames = brainRegions.keys()\n",
      "data = np.load(data_loc)\n",
      "data.shape\n",
      "\n",
      "plt.figure(figsize = [12, 12])\n",
      "pos = 1\n",
      "for seed1, seed2 in list(itertools.combinations(range(11), 2)):\n",
      "    R_all = np.zeros_like(data[:,:,0])    \n",
      "    for kk in range(11):\n",
      "        for jj in range(kk+1, 11):\n",
      "            R_all[kk, jj] = rsquared(data[kk, jj, :], data[seed1, seed2, :])\n",
      "    # Plot the output            \n",
      "    plt.subplot(11,11,pos); pos+=1\n",
      "    plt.imshow(R_all, cmap = 'binary', clim = [0, 0.4], interpolation = 'none'); plt.title(str(seed1) + ' AND ' + str(seed2))\n"
     ],
     "language": "python",
     "metadata": {},
     "outputs": []
    }
   ],
   "metadata": {}
  }
 ]
}