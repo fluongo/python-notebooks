{
 "metadata": {
  "name": "",
  "signature": "sha256:02ceea20321ff4dc7920b1f7dcd0dc1558dd96ec73c471d34b3037cab551102e"
 },
 "nbformat": 3,
 "nbformat_minor": 0,
 "worksheets": [
  {
   "cells": [
    {
     "cell_type": "code",
     "collapsed": false,
     "input": [
      "# Code for making the R-squared style plots\n",
      "\n",
      "# Things to Do\n",
      "# 1. Load in the coherence data values\n",
      "# 2. Calculate a mean subtracted version of coherence i.e. X-mu/sigma\n",
      "# 3. Look at this for individual seed regions (AMY - X) as well as everything\n",
      "\n",
      "#%matplotlib inline\n",
      "%pylab qt\n",
      "\n",
      "import sys\n",
      "import itertools\n",
      "\n",
      "# Check the system type\n",
      "if sys.platform == 'darwin':\n",
      "    sys.path.append('/users/fluongo/documents/Python_stuff/subnets-ecog')\n",
      "elif sys.platform == 'linux2':\n",
      "    sys.path.append('/newhome/fluongo/python_modules/subnets-ecog')\n",
      "    compSpec = '/Sohal'\n",
      "else:\n",
      "    sys.path.append('C:\\\\python_modules\\\\subnets-ecog')\n",
      "\n",
      "import numpy as np\n",
      "import matplotlib.pyplot as plt\n",
      "import ecogRecordingParams as recParams\n",
      "import os\n",
      "\n",
      "import seaborn as sns\n",
      "from pandas import DataFrame\n",
      "import scipy.stats\n",
      "\n",
      "sns.set_style(\"white\")\n",
      "sns.set_style(\"ticks\")\n",
      "\n",
      "def plot_im(data):\n",
      "    pc = DataFrame(data, index = refNames, columns = refNames)\n",
      "    sns.heatmap(pc, annot=False, fmt = '.2n', square = True, xticklabels = False, center = 0)\n",
      "    "
     ],
     "language": "python",
     "metadata": {},
     "outputs": [
      {
       "output_type": "stream",
       "stream": "stdout",
       "text": [
        "Populating the interactive namespace from numpy and matplotlib\n"
       ]
      }
     ],
     "prompt_number": 1
    },
    {
     "cell_type": "code",
     "collapsed": false,
     "input": [
      "patientID = 'EC71'\n",
      "data_loc = '/sohal/DARPA/' + patientID + '/processedData/coh_all_theta.npy'\n",
      "\n",
      "output = recParams.electrode_locs_fq_bands(patientID); brainRegions = output['brainRegions']; refNames = brainRegions.keys()\n",
      "data = np.load(data_loc)\n"
     ],
     "language": "python",
     "metadata": {},
     "outputs": [],
     "prompt_number": 2
    },
    {
     "cell_type": "code",
     "collapsed": false,
     "input": [
      "def rsquared(x, y):\n",
      "    \"\"\" Return R^2 where x and y are array-like.\"\"\"\n",
      "    x = np.nan_to_num(x); y = np.nan_to_num(y)\n",
      "    x = (x - np.mean(x))/np.std(x)\n",
      "    y = (y - np.mean(y))/np.std(y)\n",
      "    slope, intercept, r_value, p_value, std_err = scipy.stats.linregress(x, y)\n",
      "    return r_value**2\n",
      "\n",
      "pos = 1\n",
      "f, ax = plt.subplots(3,2, sharex=True, sharey=True)\n",
      "\n",
      "for seed1, seed2 in list(itertools.combinations(range(92, 96), 2)):\n",
      "    R_all = np.zeros_like(data[:,:,0])    \n",
      "    for kk in range(116):\n",
      "        for jj in range(kk+1, 116):\n",
      "            R_all[kk, jj] = rsquared(data[kk, jj, :], data[seed1, seed2, :])\n",
      "    # Plot the output            \n",
      "    plt.subplot(3,2,pos); pos+=1\n",
      "    plt.imshow(R_all, cmap = 'binary', clim = [0, 0.4], interpolation = 'none'); plt.title(str(seed1) + ' AND ' + str(seed2))"
     ],
     "language": "python",
     "metadata": {},
     "outputs": [],
     "prompt_number": 4
    },
    {
     "cell_type": "code",
     "collapsed": false,
     "input": [],
     "language": "python",
     "metadata": {},
     "outputs": []
    },
    {
     "cell_type": "markdown",
     "metadata": {},
     "source": [
      "Code below will perform the same thing except for the reduced datasets\n",
      "\n",
      "-- Plot the distribution of R squareds across all areas as seeds"
     ]
    },
    {
     "cell_type": "code",
     "collapsed": false,
     "input": [
      "def plot_R2_hists(patientID = 'EC71', band = 'delta', plot = False):\n",
      "\n",
      "    data_loc = '/sohal/DARPA/' + patientID + '_reducedcoh_template_10s_pr_' + band + '.npy'\n",
      "\n",
      "    output = recParams.electrode_locs_fq_bands(patientID); brainRegions = output['brainRegions']; refNames = brainRegions.keys()\n",
      "    data = np.load(data_loc)\n",
      "    \n",
      "    if plot == True:\n",
      "        f = plt.figure(1, figsize = [14, 14])\n",
      "        f2 = plt.figure(2, figsize = [14, 14])\n",
      "\n",
      "    #f, ax = plt.subplots(7,8, sharex=True, sharey=True, figsize = [14, 14])\n",
      "    #f2, ax = plt.subplots(7,8, sharex=True, sharey=True, figsize = [14, 14])\n",
      "\n",
      "    all_R2s = []; pos = 1\n",
      "    regs = data.shape[0]\n",
      "    \n",
      "    for seed1, seed2 in list(itertools.combinations(range(regs), 2)):\n",
      "        R_all = np.zeros_like(data[:,:,0])    \n",
      "        for kk in range(regs):\n",
      "            for jj in range(kk+1, regs):\n",
      "                if np.sum(data[kk, jj, :]) == 0:\n",
      "                    continue\n",
      "                \n",
      "                R_all[kk, jj] = rsquared(data[kk, jj, :], data[seed1, seed2, :])\n",
      "                \n",
      "                # This code is necessary to clean up the template cases, where there are 0s and \n",
      "                # also perfect correlation due to INS/CIN issues\n",
      "                if isnan(R_all[kk, jj]) or R_all[kk, jj] == 1:\n",
      "                    R_all[kk, jj] = 0\n",
      "\n",
      "        #Clean up and normalize\n",
      "        R_all[seed1, seed2] = 0;\n",
      "        #R_all[np.nonzero(R_all)] = ( R_all[np.nonzero(R_all)]-np.min(R_all[np.nonzero(R_all)]) ) / np.max(R_all)\n",
      "        \n",
      "        # Plot the output\n",
      "        \n",
      "        if plot == True:\n",
      "            plt.figure(f.number)\n",
      "            plt.subplot(7,8,pos); #pos+=1\n",
      "            plt.imshow(R_all, cmap = 'binary', interpolation = 'none'); plt.title(refNames[seed1] + ' AND ' + refNames[seed2])\n",
      "            plt.figure(f2.number)\n",
      "            plt.subplot(7,8,pos); pos+=1\n",
      "            plt.hist(R_all[np.nonzero(R_all)].ravel(), 50); plt.title(refNames[seed1] + ' AND ' + refNames[seed2])\n",
      "        # Append all of the R2 values\n",
      "        all_R2s.extend(R_all[np.nonzero(R_all)].ravel())\n",
      "\n",
      "    #Lastly plot the distribution across all seed regions\n",
      "    if plot == True:\n",
      "        plt.figure()\n",
      "        plt.hist(all_R2s, 200)\n",
      "        \n",
      "    return all_R2s"
     ],
     "language": "python",
     "metadata": {},
     "outputs": [],
     "prompt_number": 5
    },
    {
     "cell_type": "markdown",
     "metadata": {},
     "source": [
      "The code below will be used to generate the distribution of R^2 values for all patients and bands\n",
      "\n",
      "- These will then be plotted on the same plot to see where the cutogg\n",
      "- Maybe use just the KDE with contours to better be able to visualize things?"
     ]
    },
    {
     "cell_type": "code",
     "collapsed": false,
     "input": [
      "\n",
      "all_hists = {}\n",
      "for pID in ['EC63b', 'EC71', 'EC77', 'EC79']:\n",
      "    print pID\n",
      "    all_hists[pID] = {}\n",
      "    for curr_band in ['delta', 'alpha', 'theta', 'beta']:\n",
      "        all_hists[pID][curr_band] = plot_R2_hists(patientID = pID, band = curr_band)"
     ],
     "language": "python",
     "metadata": {},
     "outputs": [
      {
       "output_type": "stream",
       "stream": "stdout",
       "text": [
        "EC63b\n",
        "EC71"
       ]
      },
      {
       "output_type": "stream",
       "stream": "stdout",
       "text": [
        "\n",
        "EC77"
       ]
      },
      {
       "output_type": "stream",
       "stream": "stdout",
       "text": [
        "\n",
        "EC79"
       ]
      },
      {
       "output_type": "stream",
       "stream": "stdout",
       "text": [
        "\n"
       ]
      }
     ],
     "prompt_number": 6
    },
    {
     "cell_type": "code",
     "collapsed": false,
     "input": [
      "#kernels = [\"biw\", \"cos\", \"epa\", \"gau\", \"tri\", \"triw\"]\n",
      "kk = 1\n",
      "for pID in all_hists.keys():\n",
      "    plt.subplot(2,2,kk); kk+=1\n",
      "    #sns.kdeplot(np.array(all_hists_NN[pID]['theta']))\n",
      "    plt.hist(np.array(all_hists[pID]['theta']), np.linspace(0,1,100), normed=True, label = pID, alpha = 0.5)\n",
      "    plt.title(pID); sns.despine();\n",
      "plt.legend()"
     ],
     "language": "python",
     "metadata": {},
     "outputs": [
      {
       "metadata": {},
       "output_type": "pyout",
       "prompt_number": 10,
       "text": [
        "<matplotlib.legend.Legend at 0x7f09ffc8f1d0>"
       ]
      }
     ],
     "prompt_number": 10
    },
    {
     "cell_type": "code",
     "collapsed": false,
     "input": [
      "\n",
      "#all_hists_OG is no template\n",
      "#all_hists_NN is without norm\n",
      "#all_hists_template is wieth template and norm\n",
      "#all_hists_template_NN is with template but without norm"
     ],
     "language": "python",
     "metadata": {},
     "outputs": [],
     "prompt_number": 277
    }
   ],
   "metadata": {}
  }
 ]
}