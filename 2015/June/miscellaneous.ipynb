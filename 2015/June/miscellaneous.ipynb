{
 "cells": [
  {
   "cell_type": "code",
   "execution_count": 5,
   "metadata": {
    "collapsed": true
   },
   "outputs": [],
   "source": [
    "import sys\n",
    "import itertools\n",
    "from repoze.lru import lru_cache\n",
    "\n",
    "# Check the system type\n",
    "if sys.platform == 'darwin':\n",
    "    sys.path.append('/users/fluongo/documents/Python_stuff/subnets-ecog')\n",
    "elif sys.platform == 'linux2':\n",
    "    sys.path.append('/home/fluongo/python_modules/subnets-ecog')\n",
    "    compSpec = '/Sohal'\n",
    "else:\n",
    "    sys.path.append('C:\\\\python_modules\\\\subnets-ecog')\n",
    "\n",
    "import numpy as np\n",
    "import matplotlib.pyplot as plt\n",
    "import ecogRecordingParams as recParams\n",
    "import ecogMiscellaneous as ecogMisc\n",
    "import ecogVisualizations as ecogVis\n",
    "import os\n",
    "import networkx as nx\n",
    "import datetime\n",
    "\n",
    "\n",
    "import seaborn as sns\n",
    "from pandas import DataFrame\n",
    "import scipy.stats as stats\n",
    "import ecogAnalysis\n",
    "\n",
    "sns.set_style(\"white\")\n",
    "sns.set_style(\"ticks\")"
   ]
  },
  {
   "cell_type": "code",
   "execution_count": 27,
   "metadata": {
    "collapsed": true
   },
   "outputs": [],
   "source": [
    "%matplotlib inline\n",
    "\n",
    "\n",
    "def compute_projections(PC, coh_data):\n",
    "    ''' Compute the projection given the \n",
    "    \n",
    "    PCs in the form of nR x nR x nPCs\n",
    "    coh_data in the form of nR x nR x nT\n",
    "    \n",
    "    '''\n",
    "    \n",
    "    # Compute the projections\n",
    "    nR = coh_data.shape[0]; nT = coh_data.shape[2]\n",
    "    projections = np.zeros([PC.shape[2], coh_data.shape[2]])\n",
    "    for PCrank in range(PC.shape[2]):\n",
    "        projections[PCrank, :] = np.dot(PC[:,:,PCrank].ravel(), coh_data.reshape([nR**2, nT]))\n",
    "    \n",
    "    return projections\n",
    "\n",
    "def compute_R_v_loading(PC, coh_data):\n",
    "    \n",
    "    projections  = compute_projections(PC, coh_data)\n",
    "    nR = coh_data.shape[0]; nT = coh_data.shape[2]\n",
    "    # Generate the R value ditribution of each coherence to each projection\n",
    "    \n",
    "    PCloadingSums = []\n",
    "    # Figure out the sum of loadings for each PC\n",
    "    for PCrank in range(projections.shape[0]):\n",
    "        temp_sum = []\n",
    "        for i in range(nR):\n",
    "            for j in range(i,nR):\n",
    "                temp_sum.append(PC[i,j,PCrank])\n",
    "        PCloadingSums.append(np.sum(np.abs(temp_sum)))\n",
    "    \n",
    "    print PCloadingSums\n",
    "    \n",
    "    # Go through and calculate the R**2 values/loading percentages\n",
    "\n",
    "    for PCrank in range(projections.shape[0]):\n",
    "        Rs = []; Ls = []\n",
    "        for i in range(nR):\n",
    "            for j in range(i,nR):\n",
    "                Rs.append(ecogMisc.rsquared(coh_data[i,j,:], projections[PCrank]))\n",
    "                Ls.append(np.abs(PC[i,j,PCrank]/PCloadingSums[PCrank]))\n",
    "        plt.plot(Rs, Ls, '.',label = str(PCrank))\n",
    "    plt.plot([0,1],[0,1],'k--')\n",
    "    plt.legend(); plt.xlabel('R**2 value'); plt.ylabel('% loading')\n",
    "    plt.xlim([0,1]); plt.ylim([0,1])\n",
    "    \n",
    "def shuffle_coherences(coh_data, totalShuffle = False, nShuffleRepeats = 5):\n",
    "    ''' Shuffles coherences by shifting each train in time by a random number T relative to each other\n",
    "    \n",
    "    Arguments:\n",
    "    \n",
    "    coh_data -- Coherence data\n",
    "    \n",
    "    Output:\n",
    "    \n",
    "    coh_shuffled -- Shuffled version of the coherences\n",
    "    '''\n",
    "    \n",
    "    coh_data = np.nan_to_num(coh_data)\n",
    "    \n",
    "    nR = coh_data.shape[0] # Number of regions\n",
    "    nT = coh_data.shape[2] # Number of timepoints\n",
    "    coh_shuffled = np.zeros_like(coh_data)\n",
    "    \n",
    "    if totalShuffle == False:\n",
    "        rand_shift = np.random.randint(0, nT, size = (nR**2 + nR)/2)\n",
    "\n",
    "        nn = 0\n",
    "        for i in range(nR):\n",
    "            for j in range(i, nR):\n",
    "                # First shuffle\n",
    "                shuffled_coh = np.hstack([coh_data[i,j,rand_shift[nn]:], coh_data[i,j,:rand_shift[nn]]])\n",
    "                nn+=1\n",
    "                \n",
    "                # Subsequent Shuffles\n",
    "                for kk in np.random.randint(0,nT, size = nShuffleRepeats):\n",
    "                    shuffled_coh = np.hstack([shuffled_coh[kk:], shuffled_coh[:kk]])\n",
    "                \n",
    "                coh_shuffled[i,j,:] = shuffled_coh\n",
    "                coh_shuffled[j,i,:] = coh_shuffled[i,j,:]\n",
    "    \n",
    "    if totalShuffle == True:\n",
    "        for i in range(nR):\n",
    "            for j in range(i, nR):\n",
    "                coh_shuffled[i,j,:] = coh_data[i,j,np.random.permutation(range(nT))]\n",
    "                coh_shuffled[j,i,:] = coh_shuffled[i,j,:]\n",
    "    \n",
    "    return coh_shuffled\n",
    "    "
   ]
  },
  {
   "cell_type": "code",
   "execution_count": 32,
   "metadata": {
    "collapsed": false
   },
   "outputs": [
    {
     "data": {
      "text/plain": [
       "array([ 0.        ,  0.01010101,  0.02020202,  0.03030303,  0.04040404,\n",
       "        0.05050505,  0.06060606,  0.07070707,  0.08080808,  0.09090909,\n",
       "        0.1010101 ,  0.11111111,  0.12121212,  0.13131313,  0.14141414,\n",
       "        0.15151515,  0.16161616,  0.17171717,  0.18181818,  0.19191919,\n",
       "        0.2020202 ,  0.21212121,  0.22222222,  0.23232323,  0.24242424,\n",
       "        0.25252525,  0.26262626,  0.27272727,  0.28282828,  0.29292929,\n",
       "        0.3030303 ,  0.31313131,  0.32323232,  0.33333333,  0.34343434,\n",
       "        0.35353535,  0.36363636,  0.37373737,  0.38383838,  0.39393939,\n",
       "        0.4040404 ,  0.41414141,  0.42424242,  0.43434343,  0.44444444,\n",
       "        0.45454545,  0.46464646,  0.47474747,  0.48484848,  0.49494949,\n",
       "        0.50505051,  0.51515152,  0.52525253,  0.53535354,  0.54545455,\n",
       "        0.55555556,  0.56565657,  0.57575758,  0.58585859,  0.5959596 ,\n",
       "        0.60606061,  0.61616162,  0.62626263,  0.63636364,  0.64646465,\n",
       "        0.65656566,  0.66666667,  0.67676768,  0.68686869,  0.6969697 ,\n",
       "        0.70707071,  0.71717172,  0.72727273,  0.73737374,  0.74747475,\n",
       "        0.75757576,  0.76767677,  0.77777778,  0.78787879,  0.7979798 ,\n",
       "        0.80808081,  0.81818182,  0.82828283,  0.83838384,  0.84848485,\n",
       "        0.85858586,  0.86868687,  0.87878788,  0.88888889,  0.8989899 ,\n",
       "        0.90909091,  0.91919192,  0.92929293,  0.93939394,  0.94949495,\n",
       "        0.95959596,  0.96969697,  0.97979798,  0.98989899,  1.        ])"
      ]
     },
     "execution_count": 32,
     "metadata": {},
     "output_type": "execute_result"
    }
   ],
   "source": [
    "np.linspace(0,1,100)"
   ]
  },
  {
   "cell_type": "code",
   "execution_count": 31,
   "metadata": {
    "collapsed": false
   },
   "outputs": [
    {
     "name": "stdout",
     "output_type": "stream",
     "text": [
      "[1462.5109662282021, 217.58537877407255, 240.18877664908314, 147.96908793472741, 112.43713233143026]\n",
      "[1458.1195935371461, 69.287473723365309, 72.956304765272264, 91.67553346823577, 51.116270553748855]\n"
     ]
    },
    {
     "data": {
      "text/plain": [
       "<matplotlib.text.Text at 0x7fe60882e410>"
      ]
     },
     "execution_count": 31,
     "metadata": {},
     "output_type": "execute_result"
    },
    {
     "data": {
      "image/png": "[encoded data removed]",
      "text/plain": [
       "<matplotlib.figure.Figure at 0x7fe608ae3810>"
      ]
     },
     "metadata": {},
     "output_type": "display_data"
    },
    {
     "data": {
      "image/png": "[encoded data removed]",
      "text/plain": [
       "<matplotlib.figure.Figure at 0x7fe608aeb0d0>"
      ]
     },
     "metadata": {},
     "output_type": "display_data"
    }
   ],
   "source": [
    "patientID = 'EC71'\n",
    "band = 'alpha'\n",
    "\n",
    "pc_data, coh_data, refNames = ecogMisc.load_data(patientID)\n",
    "cohs = np.nan_to_num(coh_data[band])\n",
    "PC, eigV = ecogAnalysis.pca_calculation(cohs, nPCs = 5)\n",
    "plt.figure(figsize = [6,6])\n",
    "compute_R_v_loading(PC, cohs); sns.despine(); plt.title('REAL')\n",
    "\n",
    "cohs_shuff = shuffle_coherences(cohs, totalShuffle = False, nShuffleRepeats = 5)\n",
    "PCshuff, eigV = ecogAnalysis.pca_calculation(cohs_shuff, nPCs = 5)\n",
    "plt.figure(figsize = [6,6])\n",
    "compute_R_v_loading(PCshuff, cohs_shuff); sns.despine(); plt.title('SHUFFLED')\n"
   ]
  },
  {
   "cell_type": "code",
   "execution_count": null,
   "metadata": {
    "collapsed": true
   },
   "outputs": [],
   "source": []
  }
 ],
 "metadata": {
  "kernelspec": {
   "display_name": "Python 2",
   "language": "python",
   "name": "python2"
  },
  "language_info": {
   "codemirror_mode": {
    "name": "ipython",
    "version": 2
   },
   "file_extension": ".py",
   "mimetype": "text/x-python",
   "name": "python",
   "nbconvert_exporter": "python",
   "pygments_lexer": "ipython2",
   "version": "2.7.9"
  }
 },
 "nbformat": 4,
 "nbformat_minor": 0
}
