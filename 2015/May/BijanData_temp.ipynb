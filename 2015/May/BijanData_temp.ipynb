{
 "cells": [
  {
   "cell_type": "code",
   "execution_count": 28,
   "metadata": {
    "collapsed": false
   },
   "outputs": [],
   "source": [
    "import glob\n",
    "import numpy as np\n",
    "\n",
    "# beh, mov, rest\n",
    "X2 = np.load(glob.glob('/sohal-comp2/DURA_data/M01/npy/*mov*.npy')[2], mmap_mode = 'r+')"
   ]
  },
  {
   "cell_type": "code",
   "execution_count": 35,
   "metadata": {
    "collapsed": false
   },
   "outputs": [
    {
     "name": "stdout",
     "output_type": "stream",
     "text": [
      "(96, 318746)\n",
      "(96, 305894)\n",
      "(96, 624640)\n"
     ]
    }
   ],
   "source": [
    "print np.shape(X)\n",
    "print np.shape(X2)\n",
    "print np.shape(np.hstack([X, X2]))"
   ]
  },
  {
   "cell_type": "code",
   "execution_count": 37,
   "metadata": {
    "collapsed": false
   },
   "outputs": [],
   "source": [
    "import glob\n",
    "import numpy as np\n",
    "\n",
    "for mov_type in ['beh', 'mov', 'rest']:\n",
    "    X = []\n",
    "    for fn in glob.glob('/sohal-comp2/DURA_data/M01/npy/*' + mov_type + '*.npy'):\n",
    "        X.append(np.load(fn, mmap_mode = 'r+'))\n",
    "    np.save('combined_' + mov_type + '.npy', np.vstack(X))\n",
    "        "
   ]
  },
  {
   "cell_type": "code",
   "execution_count": 45,
   "metadata": {
    "collapsed": false
   },
   "outputs": [
    {
     "name": "stdout",
     "output_type": "stream",
     "text": [
      "[[-122.23132324 -230.07312012 -286.06121826 ...,  539.31622314\n",
      "   482.35443115  333.59976196]\n",
      " [ 263.02133179  408.33023071  381.59667969 ...,  428.38565063\n",
      "   346.96328735  209.95817566]\n",
      " [  88.90337372  138.80618286  205.13034058 ...,  374.93612671\n",
      "   287.89675903  168.82804871]\n",
      " ..., \n",
      " [ 211.85102844  332.99264526  374.12167358 ...,  277.02841187\n",
      "   162.38868713   63.94824982]\n",
      " [ 294.0697937   477.9161377   497.21472168 ...,  287.77557373\n",
      "   205.68954468  122.28297424]\n",
      " [ 233.58462524  363.10449219  430.78890991 ...,  273.52416992  183.8314209\n",
      "    93.02119446]]\n"
     ]
    }
   ],
   "source": []
  }
 ],
 "metadata": {
  "kernelspec": {
   "display_name": "Python 2",
   "language": "python",
   "name": "python2"
  },
  "language_info": {
   "codemirror_mode": {
    "name": "ipython",
    "version": 2
   },
   "file_extension": ".py",
   "mimetype": "text/x-python",
   "name": "python",
   "nbconvert_exporter": "python",
   "pygments_lexer": "ipython2",
   "version": "2.7.9"
  }
 },
 "nbformat": 4,
 "nbformat_minor": 0
}
