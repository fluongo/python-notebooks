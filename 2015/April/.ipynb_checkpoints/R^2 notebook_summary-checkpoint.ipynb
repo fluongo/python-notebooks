{
 "metadata": {
  "name": "",
  "signature": "sha256:d405b97adf34dfcc5fb5b50a7dc29dedb45397c74cef2a27552268c2ac4d8100"
 },
 "nbformat": 3,
 "nbformat_minor": 0,
 "worksheets": []
}