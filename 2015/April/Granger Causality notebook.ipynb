{
 "metadata": {
  "name": "",
  "signature": "sha256:cbfc908bc6a3974ca6586fff89e5d057b2644c0456b4daf62c830e376c6326cc"
 },
 "nbformat": 3,
 "nbformat_minor": 0,
 "worksheets": [
  {
   "cells": [
    {
     "cell_type": "code",
     "collapsed": false,
     "input": [],
     "language": "python",
     "metadata": {},
     "outputs": []
    },
    {
     "cell_type": "code",
     "collapsed": false,
     "input": [
      "%matplotlib inline\n",
      "\n",
      "import sys\n",
      "import itertools\n",
      "from repoze.lru import lru_cache\n",
      "\n",
      "# Check the system type\n",
      "if sys.platform == 'darwin':\n",
      "    sys.path.append('/users/fluongo/documents/Python_stuff/subnets-ecog')\n",
      "elif sys.platform == 'linux2':\n",
      "    sys.path.append('/home/fluongo/python_modules/subnets-ecog')\n",
      "    compSpec = '/Sohal'\n",
      "else:\n",
      "    sys.path.append('C:\\\\python_modules\\\\subnets-ecog')\n",
      "\n",
      "import numpy as np\n",
      "import matplotlib.pyplot as plt\n",
      "import ecogRecordingParams as recParams\n",
      "import os\n",
      "import networkx as nx\n",
      "\n",
      "import seaborn as sns\n",
      "from pandas import DataFrame\n",
      "import scipy.stats\n",
      "from matplotlib.backends.backend_pdf import PdfPages\n",
      "import scipy.stats as stats\n",
      "from repoze.lru import lru_cache\n",
      "\n",
      "sns.set_style(\"white\")\n",
      "sns.set_style(\"ticks\")\n",
      "\n",
      "@lru_cache(maxsize = 200)\n",
      "def load_data(patientID):\n",
      "    data_loc = '/sohal-comp/fluongo/DURA_data/' + patientID + '/processedData/combined_10s/'\n",
      "    data = np.load(data_loc + patientID + '_10s_proj_reduced.npy'); pc_data = data[()]\n",
      "\n",
      "    coh_data = {}\n",
      "    for band in ['delta', 'theta', 'alpha', 'beta', 'gamma']:\n",
      "        coh_data[band] = np.load(data_loc + patientID + '_reducedcoh_10s_pr_' + band + '.npy')\n",
      "\n",
      "    output = recParams.electrode_locs_fq_bands(patientID, shortNames = True); brainRegions = output['brainRegions']; refNames = brainRegions.keys()\n",
      "    \n",
      "    return pc_data, coh_data, refNames\n",
      "\n",
      "\n",
      "pc_data, coh_data, refNames = load_data('EC71')"
     ],
     "language": "python",
     "metadata": {},
     "outputs": [],
     "prompt_number": 1
    },
    {
     "cell_type": "code",
     "collapsed": false,
     "input": [
      "import statsmodels as sm\n",
      "\n",
      "pc_data, coh_data, refNames = load_data('EC79')\n",
      "test = np.vstack([coh_data['theta'][9,5,:], coh_data['theta'][7,7,:]]).T\n",
      "test = np.nan_to_num(test)\n",
      "print test.shape\n",
      "\n",
      "out = sm.tsa.stattools.grangercausalitytests(test, maxlag = 40)"
     ],
     "language": "python",
     "metadata": {},
     "outputs": [
      {
       "output_type": "stream",
       "stream": "stdout",
       "text": [
        "(62306, 2)\n",
        "\n",
        "Granger Causality\n",
        "('number of lags (no zero)', 1)\n",
        "ssr based F test:         F=2.3965  , p=0.1216  , df_denom=62302, df_num=1\n",
        "ssr based chi2 test:   chi2=2.3966  , p=0.1216  , df=1\n",
        "likelihood ratio test: chi2=2.3965  , p=0.1216  , df=1\n",
        "parameter F test:         F=2.3965  , p=0.1216  , df_denom=62302, df_num=1\n",
        "\n",
        "Granger Causality\n",
        "('number of lags (no zero)', 2)\n",
        "ssr based F test:         F=7.7390  , p=0.0004  , df_denom=62299, df_num=2"
       ]
      },
      {
       "output_type": "stream",
       "stream": "stdout",
       "text": [
        "\n",
        "ssr based chi2 test:   chi2=15.4793 , p=0.0004  , df=2\n",
        "likelihood ratio test: chi2=15.4774 , p=0.0004  , df=2\n",
        "parameter F test:         F=7.7390  , p=0.0004  , df_denom=62299, df_num=2\n",
        "\n",
        "Granger Causality\n",
        "('number of lags (no zero)', 3)\n",
        "ssr based F test:         F=6.2970  , p=0.0003  , df_denom=62296, df_num=3"
       ]
      },
      {
       "output_type": "stream",
       "stream": "stdout",
       "text": [
        "\n",
        "ssr based chi2 test:   chi2=18.8932 , p=0.0003  , df=3\n",
        "likelihood ratio test: chi2=18.8904 , p=0.0003  , df=3\n",
        "parameter F test:         F=6.2970  , p=0.0003  , df_denom=62296, df_num=3\n",
        "\n",
        "Granger Causality\n",
        "('number of lags (no zero)', 4)\n",
        "ssr based F test:         F=5.4643  , p=0.0002  , df_denom=62293, df_num=4"
       ]
      },
      {
       "output_type": "stream",
       "stream": "stdout",
       "text": [
        "\n",
        "ssr based chi2 test:   chi2=21.8602 , p=0.0002  , df=4\n",
        "likelihood ratio test: chi2=21.8564 , p=0.0002  , df=4\n",
        "parameter F test:         F=5.4643  , p=0.0002  , df_denom=62293, df_num=4\n",
        "\n",
        "Granger Causality\n",
        "('number of lags (no zero)', 5)\n",
        "ssr based F test:         F=4.4175  , p=0.0005  , df_denom=62290, df_num=5"
       ]
      },
      {
       "output_type": "stream",
       "stream": "stdout",
       "text": [
        "\n",
        "ssr based chi2 test:   chi2=22.0916 , p=0.0005  , df=5\n",
        "likelihood ratio test: chi2=22.0877 , p=0.0005  , df=5\n",
        "parameter F test:         F=4.4175  , p=0.0005  , df_denom=62290, df_num=5\n",
        "\n",
        "Granger Causality\n",
        "('number of lags (no zero)', 6)\n",
        "ssr based F test:         F=3.5344  , p=0.0017  , df_denom=62287, df_num=6"
       ]
      },
      {
       "output_type": "stream",
       "stream": "stdout",
       "text": [
        "\n",
        "ssr based chi2 test:   chi2=21.2110 , p=0.0017  , df=6\n",
        "likelihood ratio test: chi2=21.2074 , p=0.0017  , df=6\n",
        "parameter F test:         F=3.5344  , p=0.0017  , df_denom=62287, df_num=6\n",
        "\n",
        "Granger Causality\n",
        "('number of lags (no zero)', 7)\n",
        "ssr based F test:         F=3.2148  , p=0.0021  , df_denom=62284, df_num=7"
       ]
      },
      {
       "output_type": "stream",
       "stream": "stdout",
       "text": [
        "\n",
        "ssr based chi2 test:   chi2=22.5090 , p=0.0021  , df=7\n",
        "likelihood ratio test: chi2=22.5049 , p=0.0021  , df=7\n",
        "parameter F test:         F=3.2148  , p=0.0021  , df_denom=62284, df_num=7\n",
        "\n",
        "Granger Causality\n",
        "('number of lags (no zero)', 8)\n",
        "ssr based F test:         F=2.6706  , p=0.0062  , df_denom=62281, df_num=8"
       ]
      },
      {
       "output_type": "stream",
       "stream": "stdout",
       "text": [
        "\n",
        "ssr based chi2 test:   chi2=21.3705 , p=0.0062  , df=8\n",
        "likelihood ratio test: chi2=21.3669 , p=0.0062  , df=8\n",
        "parameter F test:         F=2.6706  , p=0.0062  , df_denom=62281, df_num=8\n",
        "\n",
        "Granger Causality\n",
        "('number of lags (no zero)', 9)\n",
        "ssr based F test:         F=2.6806  , p=0.0041  , df_denom=62278, df_num=9"
       ]
      },
      {
       "output_type": "stream",
       "stream": "stdout",
       "text": [
        "\n",
        "ssr based chi2 test:   chi2=24.1328 , p=0.0041  , df=9\n",
        "likelihood ratio test: chi2=24.1281 , p=0.0041  , df=9\n",
        "parameter F test:         F=2.6806  , p=0.0041  , df_denom=62278, df_num=9\n",
        "\n",
        "Granger Causality\n",
        "('number of lags (no zero)', 10)\n",
        "ssr based F test:         F=2.5050  , p=0.0053  , df_denom=62275, df_num=10"
       ]
      },
      {
       "output_type": "stream",
       "stream": "stdout",
       "text": [
        "\n",
        "ssr based chi2 test:   chi2=25.0589 , p=0.0052  , df=10\n",
        "likelihood ratio test: chi2=25.0538 , p=0.0052  , df=10\n",
        "parameter F test:         F=2.5050  , p=0.0053  , df_denom=62275, df_num=10\n",
        "\n",
        "Granger Causality\n",
        "('number of lags (no zero)', 11)\n",
        "ssr based F test:         F=2.2814  , p=0.0088  , df_denom=62272, df_num=11"
       ]
      },
      {
       "output_type": "stream",
       "stream": "stdout",
       "text": [
        "\n",
        "ssr based chi2 test:   chi2=25.1047 , p=0.0088  , df=11\n",
        "likelihood ratio test: chi2=25.0996 , p=0.0088  , df=11\n",
        "parameter F test:         F=2.2814  , p=0.0088  , df_denom=62272, df_num=11\n",
        "\n",
        "Granger Causality\n",
        "('number of lags (no zero)', 12)\n",
        "ssr based F test:         F=2.1055  , p=0.0136  , df_denom=62269, df_num=12"
       ]
      },
      {
       "output_type": "stream",
       "stream": "stdout",
       "text": [
        "\n",
        "ssr based chi2 test:   chi2=25.2756 , p=0.0136  , df=12\n",
        "likelihood ratio test: chi2=25.2704 , p=0.0136  , df=12\n",
        "parameter F test:         F=2.1055  , p=0.0136  , df_denom=62269, df_num=12\n",
        "\n",
        "Granger Causality\n",
        "('number of lags (no zero)', 13)\n",
        "ssr based F test:         F=1.9585  , p=0.0201  , df_denom=62266, df_num=13"
       ]
      },
      {
       "output_type": "stream",
       "stream": "stdout",
       "text": [
        "\n",
        "ssr based chi2 test:   chi2=25.4709 , p=0.0200  , df=13\n",
        "likelihood ratio test: chi2=25.4657 , p=0.0200  , df=13\n",
        "parameter F test:         F=1.9585  , p=0.0201  , df_denom=62266, df_num=13\n",
        "\n",
        "Granger Causality\n",
        "('number of lags (no zero)', 14)\n",
        "ssr based F test:         F=1.8015  , p=0.0325  , df_denom=62263, df_num=14"
       ]
      },
      {
       "output_type": "stream",
       "stream": "stdout",
       "text": [
        "\n",
        "ssr based chi2 test:   chi2=25.2327 , p=0.0323  , df=14\n",
        "likelihood ratio test: chi2=25.2276 , p=0.0324  , df=14\n",
        "parameter F test:         F=1.8015  , p=0.0325  , df_denom=62263, df_num=14\n",
        "\n",
        "Granger Causality\n",
        "('number of lags (no zero)', 15)\n",
        "ssr based F test:         F=1.7028  , p=0.0432  , df_denom=62260, df_num=15"
       ]
      },
      {
       "output_type": "stream",
       "stream": "stdout",
       "text": [
        "\n",
        "ssr based chi2 test:   chi2=25.5543 , p=0.0430  , df=15\n",
        "likelihood ratio test: chi2=25.5490 , p=0.0430  , df=15\n",
        "parameter F test:         F=1.7028  , p=0.0432  , df_denom=62260, df_num=15\n",
        "\n",
        "Granger Causality\n",
        "('number of lags (no zero)', 16)\n",
        "ssr based F test:         F=1.6418  , p=0.0504  , df_denom=62257, df_num=16"
       ]
      },
      {
       "output_type": "stream",
       "stream": "stdout",
       "text": [
        "\n",
        "ssr based chi2 test:   chi2=26.2830 , p=0.0502  , df=16\n",
        "likelihood ratio test: chi2=26.2774 , p=0.0502  , df=16\n",
        "parameter F test:         F=1.6418  , p=0.0504  , df_denom=62257, df_num=16\n",
        "\n",
        "Granger Causality\n",
        "('number of lags (no zero)', 17)\n",
        "ssr based F test:         F=1.5668  , p=0.0637  , df_denom=62254, df_num=17"
       ]
      },
      {
       "output_type": "stream",
       "stream": "stdout",
       "text": [
        "\n",
        "ssr based chi2 test:   chi2=26.6508 , p=0.0634  , df=17\n",
        "likelihood ratio test: chi2=26.6451 , p=0.0635  , df=17\n",
        "parameter F test:         F=1.5668  , p=0.0637  , df_denom=62254, df_num=17\n",
        "\n",
        "Granger Causality\n",
        "('number of lags (no zero)', 18)\n",
        "ssr based F test:         F=1.8516  , p=0.0152  , df_denom=62251, df_num=18"
       ]
      },
      {
       "output_type": "stream",
       "stream": "stdout",
       "text": [
        "\n",
        "ssr based chi2 test:   chi2=33.3477 , p=0.0151  , df=18\n",
        "likelihood ratio test: chi2=33.3388 , p=0.0152  , df=18\n",
        "parameter F test:         F=1.8516  , p=0.0152  , df_denom=62251, df_num=18\n",
        "\n",
        "Granger Causality\n",
        "('number of lags (no zero)', 19)\n",
        "ssr based F test:         F=1.7557  , p=0.0219  , df_denom=62248, df_num=19"
       ]
      },
      {
       "output_type": "stream",
       "stream": "stdout",
       "text": [
        "\n",
        "ssr based chi2 test:   chi2=33.3795 , p=0.0217  , df=19\n",
        "likelihood ratio test: chi2=33.3705 , p=0.0218  , df=19\n",
        "parameter F test:         F=1.7557  , p=0.0219  , df_denom=62248, df_num=19\n",
        "\n",
        "Granger Causality\n",
        "('number of lags (no zero)', 20)\n",
        "ssr based F test:         F=1.6698  , p=0.0306  , df_denom=62245, df_num=20"
       ]
      },
      {
       "output_type": "stream",
       "stream": "stdout",
       "text": [
        "\n",
        "ssr based chi2 test:   chi2=33.4171 , p=0.0303  , df=20\n",
        "likelihood ratio test: chi2=33.4082 , p=0.0304  , df=20\n",
        "parameter F test:         F=1.6698  , p=0.0306  , df_denom=62245, df_num=20\n",
        "\n",
        "Granger Causality\n",
        "('number of lags (no zero)', 21)\n",
        "ssr based F test:         F=1.6571  , p=0.0297  , df_denom=62242, df_num=21"
       ]
      },
      {
       "output_type": "stream",
       "stream": "stdout",
       "text": [
        "\n",
        "ssr based chi2 test:   chi2=34.8225 , p=0.0295  , df=21\n",
        "likelihood ratio test: chi2=34.8128 , p=0.0296  , df=21\n",
        "parameter F test:         F=1.6571  , p=0.0297  , df_denom=62242, df_num=21\n",
        "\n",
        "Granger Causality\n",
        "('number of lags (no zero)', 22)\n",
        "ssr based F test:         F=1.5802  , p=0.0410  , df_denom=62239, df_num=22"
       ]
      },
      {
       "output_type": "stream",
       "stream": "stdout",
       "text": [
        "\n",
        "ssr based chi2 test:   chi2=34.7902 , p=0.0407  , df=22\n",
        "likelihood ratio test: chi2=34.7805 , p=0.0408  , df=22\n",
        "parameter F test:         F=1.5802  , p=0.0410  , df_denom=62239, df_num=22\n",
        "\n",
        "Granger Causality\n",
        "('number of lags (no zero)', 23)\n",
        "ssr based F test:         F=1.5177  , p=0.0532  , df_denom=62236, df_num=23"
       ]
      },
      {
       "output_type": "stream",
       "stream": "stdout",
       "text": [
        "\n",
        "ssr based chi2 test:   chi2=34.9334 , p=0.0528  , df=23\n",
        "likelihood ratio test: chi2=34.9236 , p=0.0529  , df=23\n",
        "parameter F test:         F=1.5177  , p=0.0532  , df_denom=62236, df_num=23\n",
        "\n",
        "Granger Causality\n",
        "('number of lags (no zero)', 24)\n",
        "ssr based F test:         F=1.5543  , p=0.0408  , df_denom=62233, df_num=24"
       ]
      },
      {
       "output_type": "stream",
       "stream": "stdout",
       "text": [
        "\n",
        "ssr based chi2 test:   chi2=37.3329 , p=0.0405  , df=24\n",
        "likelihood ratio test: chi2=37.3217 , p=0.0406  , df=24\n",
        "parameter F test:         F=1.5543  , p=0.0408  , df_denom=62233, df_num=24\n",
        "\n",
        "Granger Causality\n",
        "('number of lags (no zero)', 25)\n",
        "ssr based F test:         F=1.9397  , p=0.0033  , df_denom=62230, df_num=25"
       ]
      },
      {
       "output_type": "stream",
       "stream": "stdout",
       "text": [
        "\n",
        "ssr based chi2 test:   chi2=48.5325 , p=0.0032  , df=25\n",
        "likelihood ratio test: chi2=48.5136 , p=0.0032  , df=25\n",
        "parameter F test:         F=1.9397  , p=0.0033  , df_denom=62230, df_num=25\n",
        "\n",
        "Granger Causality\n",
        "('number of lags (no zero)', 26)\n",
        "ssr based F test:         F=1.8640  , p=0.0048  , df_denom=62227, df_num=26"
       ]
      },
      {
       "output_type": "stream",
       "stream": "stdout",
       "text": [
        "\n",
        "ssr based chi2 test:   chi2=48.5062 , p=0.0047  , df=26\n",
        "likelihood ratio test: chi2=48.4873 , p=0.0047  , df=26\n",
        "parameter F test:         F=1.8640  , p=0.0048  , df_denom=62227, df_num=26\n",
        "\n",
        "Granger Causality\n",
        "('number of lags (no zero)', 27)\n",
        "ssr based F test:         F=1.7978  , p=0.0067  , df_denom=62224, df_num=27"
       ]
      },
      {
       "output_type": "stream",
       "stream": "stdout",
       "text": [
        "\n",
        "ssr based chi2 test:   chi2=48.5826 , p=0.0066  , df=27\n",
        "likelihood ratio test: chi2=48.5637 , p=0.0066  , df=27\n",
        "parameter F test:         F=1.7978  , p=0.0067  , df_denom=62224, df_num=27\n",
        "\n",
        "Granger Causality\n",
        "('number of lags (no zero)', 28)\n",
        "ssr based F test:         F=2.0735  , p=0.0007  , df_denom=62221, df_num=28"
       ]
      },
      {
       "output_type": "stream",
       "stream": "stdout",
       "text": [
        "\n",
        "ssr based chi2 test:   chi2=58.1112 , p=0.0007  , df=28\n",
        "likelihood ratio test: chi2=58.0841 , p=0.0007  , df=28\n",
        "parameter F test:         F=2.0735  , p=0.0007  , df_denom=62221, df_num=28\n",
        "\n",
        "Granger Causality\n",
        "('number of lags (no zero)', 29)\n",
        "ssr based F test:         F=2.0149  , p=0.0010  , df_denom=62218, df_num=29"
       ]
      },
      {
       "output_type": "stream",
       "stream": "stdout",
       "text": [
        "\n",
        "ssr based chi2 test:   chi2=58.4875 , p=0.0009  , df=29\n",
        "likelihood ratio test: chi2=58.4601 , p=0.0010  , df=29\n",
        "parameter F test:         F=2.0149  , p=0.0010  , df_denom=62218, df_num=29\n",
        "\n",
        "Granger Causality\n",
        "('number of lags (no zero)', 30)\n",
        "ssr based F test:         F=2.1507  , p=0.0003  , df_denom=62215, df_num=30"
       ]
      },
      {
       "output_type": "stream",
       "stream": "stdout",
       "text": [
        "\n",
        "ssr based chi2 test:   chi2=64.5828 , p=0.0002  , df=30\n",
        "likelihood ratio test: chi2=64.5494 , p=0.0003  , df=30\n",
        "parameter F test:         F=2.1507  , p=0.0003  , df_denom=62215, df_num=30\n",
        "\n",
        "Granger Causality\n",
        "('number of lags (no zero)', 31)\n",
        "ssr based F test:         F=2.1156  , p=0.0003  , df_denom=62212, df_num=31"
       ]
      },
      {
       "output_type": "stream",
       "stream": "stdout",
       "text": [
        "\n",
        "ssr based chi2 test:   chi2=65.6499 , p=0.0003  , df=31\n",
        "likelihood ratio test: chi2=65.6153 , p=0.0003  , df=31\n",
        "parameter F test:         F=2.1156  , p=0.0003  , df_denom=62212, df_num=31\n",
        "\n",
        "Granger Causality\n",
        "('number of lags (no zero)', 32)\n",
        "ssr based F test:         F=2.1023  , p=0.0003  , df_denom=62209, df_num=32"
       ]
      },
      {
       "output_type": "stream",
       "stream": "stdout",
       "text": [
        "\n",
        "ssr based chi2 test:   chi2=67.3449 , p=0.0003  , df=32\n",
        "likelihood ratio test: chi2=67.3086 , p=0.0003  , df=32\n",
        "parameter F test:         F=2.1023  , p=0.0003  , df_denom=62209, df_num=32\n",
        "\n",
        "Granger Causality\n",
        "('number of lags (no zero)', 33)\n",
        "ssr based F test:         F=2.0765  , p=0.0003  , df_denom=62206, df_num=33"
       ]
      },
      {
       "output_type": "stream",
       "stream": "stdout",
       "text": [
        "\n",
        "ssr based chi2 test:   chi2=68.5992 , p=0.0003  , df=33\n",
        "likelihood ratio test: chi2=68.5614 , p=0.0003  , df=33\n",
        "parameter F test:         F=2.0765  , p=0.0003  , df_denom=62206, df_num=33"
       ]
      },
      {
       "output_type": "stream",
       "stream": "stdout",
       "text": [
        "\n",
        "\n",
        "Granger Causality\n",
        "('number of lags (no zero)', 34)\n",
        "ssr based F test:         F=2.0269  , p=0.0004  , df_denom=62203, df_num=34"
       ]
      },
      {
       "output_type": "stream",
       "stream": "stdout",
       "text": [
        "\n",
        "ssr based chi2 test:   chi2=68.9903 , p=0.0004  , df=34\n",
        "likelihood ratio test: chi2=68.9521 , p=0.0004  , df=34\n",
        "parameter F test:         F=2.0269  , p=0.0004  , df_denom=62203, df_num=34"
       ]
      },
      {
       "output_type": "stream",
       "stream": "stdout",
       "text": [
        "\n",
        "\n",
        "Granger Causality\n",
        "('number of lags (no zero)', 35)\n",
        "ssr based F test:         F=1.9708  , p=0.0005  , df_denom=62200, df_num=35"
       ]
      },
      {
       "output_type": "stream",
       "stream": "stdout",
       "text": [
        "\n",
        "ssr based chi2 test:   chi2=69.0572 , p=0.0005  , df=35\n",
        "likelihood ratio test: chi2=69.0189 , p=0.0005  , df=35\n",
        "parameter F test:         F=1.9708  , p=0.0005  , df_denom=62200, df_num=35\n",
        "\n",
        "Granger Causality\n",
        "('number of lags (no zero)', 36)\n",
        "ssr based F test:         F=2.0541  , p=0.0002  , df_denom=62197, df_num=36"
       ]
      },
      {
       "output_type": "stream",
       "stream": "stdout",
       "text": [
        "\n",
        "ssr based chi2 test:   chi2=74.0331 , p=0.0002  , df=36\n",
        "likelihood ratio test: chi2=73.9891 , p=0.0002  , df=36\n",
        "parameter F test:         F=2.0541  , p=0.0002  , df_denom=62197, df_num=36"
       ]
      },
      {
       "output_type": "stream",
       "stream": "stdout",
       "text": [
        "\n",
        "\n",
        "Granger Causality\n",
        "('number of lags (no zero)', 37)\n",
        "ssr based F test:         F=2.0124  , p=0.0003  , df_denom=62194, df_num=37"
       ]
      },
      {
       "output_type": "stream",
       "stream": "stdout",
       "text": [
        "\n",
        "ssr based chi2 test:   chi2=74.5504 , p=0.0002  , df=37\n",
        "likelihood ratio test: chi2=74.5058 , p=0.0003  , df=37\n",
        "parameter F test:         F=2.0124  , p=0.0003  , df_denom=62194, df_num=37"
       ]
      },
      {
       "output_type": "stream",
       "stream": "stdout",
       "text": [
        "\n",
        "\n",
        "Granger Causality\n",
        "('number of lags (no zero)', 38)\n",
        "ssr based F test:         F=2.0703  , p=0.0001  , df_denom=62191, df_num=38"
       ]
      },
      {
       "output_type": "stream",
       "stream": "stdout",
       "text": [
        "\n",
        "ssr based chi2 test:   chi2=78.7697 , p=0.0001  , df=38\n",
        "likelihood ratio test: chi2=78.7199 , p=0.0001  , df=38\n",
        "parameter F test:         F=2.0703  , p=0.0001  , df_denom=62191, df_num=38"
       ]
      },
      {
       "output_type": "stream",
       "stream": "stdout",
       "text": [
        "\n",
        "\n",
        "Granger Causality\n",
        "('number of lags (no zero)', 39)\n",
        "ssr based F test:         F=2.0225  , p=0.0002  , df_denom=62188, df_num=39"
       ]
      },
      {
       "output_type": "stream",
       "stream": "stdout",
       "text": [
        "\n",
        "ssr based chi2 test:   chi2=78.9768 , p=0.0002  , df=39\n",
        "likelihood ratio test: chi2=78.9268 , p=0.0002  , df=39\n",
        "parameter F test:         F=2.0225  , p=0.0002  , df_denom=62188, df_num=39"
       ]
      },
      {
       "output_type": "stream",
       "stream": "stdout",
       "text": [
        "\n",
        "\n",
        "Granger Causality\n",
        "('number of lags (no zero)', 40)\n",
        "ssr based F test:         F=2.1020  , p=0.0001  , df_denom=62185, df_num=40"
       ]
      },
      {
       "output_type": "stream",
       "stream": "stdout",
       "text": [
        "\n",
        "ssr based chi2 test:   chi2=84.1895 , p=0.0001  , df=40\n",
        "likelihood ratio test: chi2=84.1326 , p=0.0001  , df=40\n",
        "parameter F test:         F=2.1020  , p=0.0001  , df_denom=62185, df_num=40"
       ]
      },
      {
       "output_type": "stream",
       "stream": "stdout",
       "text": [
        "\n"
       ]
      }
     ],
     "prompt_number": 33
    }
   ],
   "metadata": {}
  }
 ]
}